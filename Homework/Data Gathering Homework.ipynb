{
 "cells": [
  {
   "cell_type": "markdown",
   "metadata": {},
   "source": [
    "# Data Gathering Homework\n",
    "\n",
    "In this notebook are some exercises to gain more experience with the data gathering methods we explored in the corresponding lecture, <i>DataGathering</i>. Work through these as you see fit."
   ]
  },
  {
   "cell_type": "markdown",
   "metadata": {},
   "source": [
    "## Pandas and Data File Basics\n",
    "\n",
    "<ol>\n",
    "    <li>Load in the `adult.csv` dataset.</li>\n",
    "    <li>Find the number of people in each marriage-status category.</li>\n",
    "    <li>What is the average age for each sex?</li>\n",
    "    <li>For salary breakdown for each salary level?</li>\n",
    "    <li>Read the `pandas` docs or google to find all divorced people over 40.</li>\n",
    "    <li>Read in the data from one of pudding.cool's github repository data sets <a href=\"https://github.com/the-pudding/data\">https://github.com/the-pudding/data</a>.</li>\n",
    "</ol>"
   ]
  },
  {
   "cell_type": "markdown",
   "metadata": {},
   "source": [
    "## 1"
   ]
  },
  {
   "cell_type": "code",
   "execution_count": 40,
   "metadata": {},
   "outputs": [],
   "source": [
    "### SPACE TO ANSWER #####\n",
    "import pandas as pd\n",
    "import numpy as np\n",
    "import matplotlib.pyplot as plt\n",
    "# colnames=[\"workclass\",\"age\", \"education\", \"fnlwgt\", ]\n",
    "adult = pd.read_csv(\"../Lectures/DataGathering/adult.csv\", index_col=False)\n"
   ]
  },
  {
   "cell_type": "code",
   "execution_count": 41,
   "metadata": {
    "scrolled": false
   },
   "outputs": [
    {
     "data": {
      "text/html": [
       "<div>\n",
       "<style scoped>\n",
       "    .dataframe tbody tr th:only-of-type {\n",
       "        vertical-align: middle;\n",
       "    }\n",
       "\n",
       "    .dataframe tbody tr th {\n",
       "        vertical-align: top;\n",
       "    }\n",
       "\n",
       "    .dataframe thead th {\n",
       "        text-align: right;\n",
       "    }\n",
       "</style>\n",
       "<table border=\"1\" class=\"dataframe\">\n",
       "  <thead>\n",
       "    <tr style=\"text-align: right;\">\n",
       "      <th></th>\n",
       "      <th>age</th>\n",
       "      <th>workclass</th>\n",
       "      <th>fnlwgt</th>\n",
       "      <th>education</th>\n",
       "      <th>education-num</th>\n",
       "      <th>marital-status</th>\n",
       "      <th>occupation</th>\n",
       "      <th>relationship</th>\n",
       "      <th>race</th>\n",
       "      <th>sex</th>\n",
       "      <th>capital-gain</th>\n",
       "      <th>something</th>\n",
       "      <th>hours-per-week</th>\n",
       "      <th>native-country</th>\n",
       "      <th>salary</th>\n",
       "    </tr>\n",
       "  </thead>\n",
       "  <tbody>\n",
       "    <tr>\n",
       "      <td>32556</td>\n",
       "      <td>27</td>\n",
       "      <td>Private</td>\n",
       "      <td>257302</td>\n",
       "      <td>Assoc-acdm</td>\n",
       "      <td>12</td>\n",
       "      <td>Married-civ-spouse</td>\n",
       "      <td>Tech-support</td>\n",
       "      <td>Wife</td>\n",
       "      <td>White</td>\n",
       "      <td>Female</td>\n",
       "      <td>0</td>\n",
       "      <td>0</td>\n",
       "      <td>38</td>\n",
       "      <td>United-States</td>\n",
       "      <td>&lt;=50K</td>\n",
       "    </tr>\n",
       "    <tr>\n",
       "      <td>32557</td>\n",
       "      <td>40</td>\n",
       "      <td>Private</td>\n",
       "      <td>154374</td>\n",
       "      <td>HS-grad</td>\n",
       "      <td>9</td>\n",
       "      <td>Married-civ-spouse</td>\n",
       "      <td>Machine-op-inspct</td>\n",
       "      <td>Husband</td>\n",
       "      <td>White</td>\n",
       "      <td>Male</td>\n",
       "      <td>0</td>\n",
       "      <td>0</td>\n",
       "      <td>40</td>\n",
       "      <td>United-States</td>\n",
       "      <td>&gt;50K</td>\n",
       "    </tr>\n",
       "    <tr>\n",
       "      <td>32558</td>\n",
       "      <td>58</td>\n",
       "      <td>Private</td>\n",
       "      <td>151910</td>\n",
       "      <td>HS-grad</td>\n",
       "      <td>9</td>\n",
       "      <td>Widowed</td>\n",
       "      <td>Adm-clerical</td>\n",
       "      <td>Unmarried</td>\n",
       "      <td>White</td>\n",
       "      <td>Female</td>\n",
       "      <td>0</td>\n",
       "      <td>0</td>\n",
       "      <td>40</td>\n",
       "      <td>United-States</td>\n",
       "      <td>&lt;=50K</td>\n",
       "    </tr>\n",
       "    <tr>\n",
       "      <td>32559</td>\n",
       "      <td>22</td>\n",
       "      <td>Private</td>\n",
       "      <td>201490</td>\n",
       "      <td>HS-grad</td>\n",
       "      <td>9</td>\n",
       "      <td>Never-married</td>\n",
       "      <td>Adm-clerical</td>\n",
       "      <td>Own-child</td>\n",
       "      <td>White</td>\n",
       "      <td>Male</td>\n",
       "      <td>0</td>\n",
       "      <td>0</td>\n",
       "      <td>20</td>\n",
       "      <td>United-States</td>\n",
       "      <td>&lt;=50K</td>\n",
       "    </tr>\n",
       "    <tr>\n",
       "      <td>32560</td>\n",
       "      <td>52</td>\n",
       "      <td>Self-emp-inc</td>\n",
       "      <td>287927</td>\n",
       "      <td>HS-grad</td>\n",
       "      <td>9</td>\n",
       "      <td>Married-civ-spouse</td>\n",
       "      <td>Exec-managerial</td>\n",
       "      <td>Wife</td>\n",
       "      <td>White</td>\n",
       "      <td>Female</td>\n",
       "      <td>15024</td>\n",
       "      <td>0</td>\n",
       "      <td>40</td>\n",
       "      <td>United-States</td>\n",
       "      <td>&gt;50K</td>\n",
       "    </tr>\n",
       "  </tbody>\n",
       "</table>\n",
       "</div>"
      ],
      "text/plain": [
       "       age      workclass  fnlwgt    education  education-num  \\\n",
       "32556   27        Private  257302   Assoc-acdm             12   \n",
       "32557   40        Private  154374      HS-grad              9   \n",
       "32558   58        Private  151910      HS-grad              9   \n",
       "32559   22        Private  201490      HS-grad              9   \n",
       "32560   52   Self-emp-inc  287927      HS-grad              9   \n",
       "\n",
       "            marital-status          occupation relationship    race      sex  \\\n",
       "32556   Married-civ-spouse        Tech-support         Wife   White   Female   \n",
       "32557   Married-civ-spouse   Machine-op-inspct      Husband   White     Male   \n",
       "32558              Widowed        Adm-clerical    Unmarried   White   Female   \n",
       "32559        Never-married        Adm-clerical    Own-child   White     Male   \n",
       "32560   Married-civ-spouse     Exec-managerial         Wife   White   Female   \n",
       "\n",
       "       capital-gain  something  hours-per-week  native-country  salary  \n",
       "32556             0          0              38   United-States   <=50K  \n",
       "32557             0          0              40   United-States    >50K  \n",
       "32558             0          0              40   United-States   <=50K  \n",
       "32559             0          0              20   United-States   <=50K  \n",
       "32560         15024          0              40   United-States    >50K  "
      ]
     },
     "execution_count": 41,
     "metadata": {},
     "output_type": "execute_result"
    }
   ],
   "source": [
    "### SPACE TO ANSWER #####\n",
    "\n",
    "adult.tail()\n"
   ]
  },
  {
   "cell_type": "code",
   "execution_count": 87,
   "metadata": {
    "scrolled": true
   },
   "outputs": [
    {
     "name": "stdout",
     "output_type": "stream",
     "text": [
      "<class 'pandas.core.frame.DataFrame'>\n",
      "RangeIndex: 32561 entries, 0 to 32560\n",
      "Data columns (total 15 columns):\n",
      "age               32561 non-null int64\n",
      "workclass         32561 non-null object\n",
      "fnlwgt            32561 non-null int64\n",
      "education         32561 non-null object\n",
      "education-num     32561 non-null int64\n",
      "marital-status    32561 non-null object\n",
      "occupation        32561 non-null object\n",
      "relationship      32561 non-null object\n",
      "race              32561 non-null object\n",
      "sex               32561 non-null object\n",
      "capital-gain      32561 non-null int64\n",
      "something         32561 non-null int64\n",
      "hours-per-week    32561 non-null int64\n",
      "native-country    32561 non-null object\n",
      "salary            32561 non-null object\n",
      "dtypes: int64(6), object(9)\n",
      "memory usage: 3.7+ MB\n"
     ]
    }
   ],
   "source": [
    "adult.info()"
   ]
  },
  {
   "cell_type": "code",
   "execution_count": 101,
   "metadata": {},
   "outputs": [
    {
     "data": {
      "text/html": [
       "<div>\n",
       "<style scoped>\n",
       "    .dataframe tbody tr th:only-of-type {\n",
       "        vertical-align: middle;\n",
       "    }\n",
       "\n",
       "    .dataframe tbody tr th {\n",
       "        vertical-align: top;\n",
       "    }\n",
       "\n",
       "    .dataframe thead th {\n",
       "        text-align: right;\n",
       "    }\n",
       "</style>\n",
       "<table border=\"1\" class=\"dataframe\">\n",
       "  <thead>\n",
       "    <tr style=\"text-align: right;\">\n",
       "      <th>salary</th>\n",
       "      <th>&lt;=50K</th>\n",
       "      <th>&gt;50K</th>\n",
       "      <th>All</th>\n",
       "    </tr>\n",
       "    <tr>\n",
       "      <th>sex</th>\n",
       "      <th></th>\n",
       "      <th></th>\n",
       "      <th></th>\n",
       "    </tr>\n",
       "  </thead>\n",
       "  <tbody>\n",
       "    <tr>\n",
       "      <td>Female</td>\n",
       "      <td>0.294586</td>\n",
       "      <td>0.036209</td>\n",
       "      <td>0.330795</td>\n",
       "    </tr>\n",
       "    <tr>\n",
       "      <td>Male</td>\n",
       "      <td>0.464605</td>\n",
       "      <td>0.204601</td>\n",
       "      <td>0.669205</td>\n",
       "    </tr>\n",
       "    <tr>\n",
       "      <td>All</td>\n",
       "      <td>0.759190</td>\n",
       "      <td>0.240810</td>\n",
       "      <td>1.000000</td>\n",
       "    </tr>\n",
       "  </tbody>\n",
       "</table>\n",
       "</div>"
      ],
      "text/plain": [
       "salary      <=50K      >50K       All\n",
       "sex                                  \n",
       " Female  0.294586  0.036209  0.330795\n",
       " Male    0.464605  0.204601  0.669205\n",
       "All      0.759190  0.240810  1.000000"
      ]
     },
     "execution_count": 101,
     "metadata": {},
     "output_type": "execute_result"
    }
   ],
   "source": [
    "pd.crosstab(adult[\"sex\"], adult[\"salary\"],margins=True)/adult.shape[0]"
   ]
  },
  {
   "cell_type": "markdown",
   "metadata": {},
   "source": [
    "## 2"
   ]
  },
  {
   "cell_type": "code",
   "execution_count": 42,
   "metadata": {},
   "outputs": [
    {
     "name": "stdout",
     "output_type": "stream",
     "text": [
      " Never-married:10683\n",
      " Married-civ-spouse:14976\n",
      " Divorced:4443\n",
      " Married-spouse-absent:418\n",
      " Separated:1025\n",
      " Married-AF-spouse:23\n",
      " Widowed:993\n"
     ]
    }
   ],
   "source": [
    "### SPACE TO ANSWER #####\n",
    "mar_Status = adult[\"marital-status\"].unique()\n",
    "# adult[\"marital-status\"].head()\n",
    "# plt.hist(adult[\"marital-status\"]);\n",
    "for element in mar_Status:\n",
    "    number=len(adult[adult[\"marital-status\"]==str(element)])\n",
    "    print(\"%s:%s\"%(element,number))"
   ]
  },
  {
   "cell_type": "markdown",
   "metadata": {},
   "source": [
    "### A histogram"
   ]
  },
  {
   "cell_type": "code",
   "execution_count": 43,
   "metadata": {},
   "outputs": [
    {
     "data": {
      "text/plain": [
       "([0, 1, 2, 3, 4, 5, 6], <a list of 7 Text xticklabel objects>)"
      ]
     },
     "execution_count": 43,
     "metadata": {},
     "output_type": "execute_result"
    },
    {
     "data": {
      "image/png": "[encoded data removed]",
      "text/plain": [
       "<Figure size 432x288 with 1 Axes>"
      ]
     },
     "metadata": {
      "needs_background": "light"
     },
     "output_type": "display_data"
    }
   ],
   "source": [
    "plt.hist(adult[\"marital-status\"],align='left',bins=7);\n",
    "plt.xticks(rotation='vertical')"
   ]
  },
  {
   "cell_type": "markdown",
   "metadata": {},
   "source": [
    "## 3"
   ]
  },
  {
   "cell_type": "code",
   "execution_count": 71,
   "metadata": {},
   "outputs": [
    {
     "name": "stdout",
     "output_type": "stream",
     "text": [
      " Male mean age: 39.433547\n",
      " Female mean age: 36.858230\n"
     ]
    }
   ],
   "source": [
    "### SPACE TO ANSWER #####\n",
    "sex_list = adult[\"sex\"].unique()\n",
    "for element in sex_list:\n",
    "    mean_age = adult[adult[\"sex\"]==element][\"age\"].mean()\n",
    "    print(\"%s mean age: %f\"%(element,mean_age))"
   ]
  },
  {
   "cell_type": "markdown",
   "metadata": {},
   "source": [
    "## 4"
   ]
  },
  {
   "cell_type": "code",
   "execution_count": 50,
   "metadata": {},
   "outputs": [
    {
     "name": "stdout",
     "output_type": "stream",
     "text": [
      " <=50K mean age: 36.783738\n",
      " >50K mean age: 44.249841\n"
     ]
    }
   ],
   "source": [
    "salary_list = adult[\"salary\"].unique()\n",
    "for element in salary_list:\n",
    "    mean_age = adult[adult[\"salary\"]==element][\"age\"].mean()\n",
    "    print(\"%s mean age: %f\"%(element,mean_age))"
   ]
  },
  {
   "cell_type": "code",
   "execution_count": 64,
   "metadata": {
    "scrolled": true
   },
   "outputs": [
    {
     "name": "stdout",
     "output_type": "stream",
     "text": [
      " <=50K,  Male, 15128\n",
      " <=50K,  Female, 9592\n",
      " >50K,  Male, 6662\n",
      " >50K,  Female, 1179\n"
     ]
    }
   ],
   "source": [
    "salary_list = adult[\"salary\"].unique()\n",
    "for element in salary_list:\n",
    "    for sex in sex_list:\n",
    "        numPeop = len(adult[(adult[\"salary\"]==element) & (adult[\"sex\"]==sex)])\n",
    "        print(\"%s, %s, %i\"%(element,sex,numPeop))"
   ]
  },
  {
   "cell_type": "markdown",
   "metadata": {},
   "source": [
    "### Divorced people over 40"
   ]
  },
  {
   "cell_type": "code",
   "execution_count": 85,
   "metadata": {},
   "outputs": [
    {
     "name": "stdout",
     "output_type": "stream",
     "text": [
      "Number of people over 40 that are divorced\n"
     ]
    },
    {
     "data": {
      "text/plain": [
       "2539"
      ]
     },
     "execution_count": 85,
     "metadata": {},
     "output_type": "execute_result"
    }
   ],
   "source": [
    "# len(adult[(adult[\"marital-status\"]==\" Divorded\") & (adult[\"age\"]>40)])\n",
    "# mar_Status[2]\n",
    "print(\"Number of people over 40 that are divorced\")\n",
    "len(adult[(adult[\"marital-status\"]==\" Divorced\")& (adult[\"age\"]>40)])"
   ]
  },
  {
   "cell_type": "markdown",
   "metadata": {},
   "source": [
    "## Data Websites\n",
    "\n",
    "<ol>\n",
    "    <li>Find a data set at Kaggle.com, explore it with `pandas`.</li>\n",
    "    <li>Explore one of the other non-Kaggle websites</li>\n",
    "</ol>"
   ]
  },
  {
   "cell_type": "markdown",
   "metadata": {},
   "source": [
    "## HTML Scraping With BeautifulSoup\n",
    "\n",
    "<ol>\n",
    "     <li>Write a script to get the title, author, and publishing date from the first 5 pages of articles from 538's politics section, <a href=\"https://fivethirtyeight.com/politics/features/\">https://fivethirtyeight.com/politics/features/</a>. </li>\n",
    "    <li>Write a script to get the scores from all of the Cleveland Browns games from this site, <a href=\"https://www.pro-football-reference.com/teams/cle/2019.htm\">https://www.pro-football-reference.com/teams/cle/2019.htm</a>.</li>\n",
    "    <li>Write a script to get the scores from every Cleveland Browns game from 2000 to 2019 from <a href=\"https://www.pro-football-reference.com/\">pro-football-reference.com</a>. Store them as a csv file with columns: year, game_num, opposing_team, browns_score, opp_score</li>\n",
    "    <li>Try to scrape the beer names, and beer types from the following link, <a href=\"https://untappd.com/w/lineage-brewing/193720/beer\">https://untappd.com/w/lineage-brewing/193720/beer</a>. What happens?</li>\n",
    "   \n",
    "</ol>"
   ]
  },
  {
   "cell_type": "code",
   "execution_count": 4,
   "metadata": {},
   "outputs": [],
   "source": [
    "#### SPACE TO ANSWER #####\n",
    "\n",
    "\n",
    "\n",
    "\n",
    "\n",
    "\n",
    "\n",
    "\n",
    "\n",
    "\n"
   ]
  },
  {
   "cell_type": "code",
   "execution_count": 5,
   "metadata": {},
   "outputs": [],
   "source": [
    "#### SPACE TO ANSWER #####\n",
    "\n",
    "\n",
    "\n",
    "\n",
    "\n",
    "\n",
    "\n",
    "\n",
    "\n"
   ]
  },
  {
   "cell_type": "code",
   "execution_count": 6,
   "metadata": {},
   "outputs": [],
   "source": [
    "#### SPACE TO ANSWER #####\n",
    "\n",
    "\n",
    "\n",
    "\n",
    "\n",
    "\n",
    "\n",
    "\n"
   ]
  },
  {
   "cell_type": "code",
   "execution_count": 7,
   "metadata": {},
   "outputs": [],
   "source": [
    "#### SPACE TO ANSWER #####\n",
    "\n",
    "\n",
    "\n",
    "\n",
    "\n",
    "\n",
    "\n",
    "\n"
   ]
  },
  {
   "cell_type": "markdown",
   "metadata": {},
   "source": [
    "## Python and Interacting With Databases\n",
    "\n",
    "<ol>\n",
    "    <li>Let's return to the cat_store.db database from class. Write some functions to does the following:\n",
    "        <ul>\n",
    "            <li>Takes in a customer id, a purchase, and a date,</li>\n",
    "            <li>Record the purchase in a purchases database and assigns it a unique purchase_id,</li>\n",
    "            <li>Subtracts the purchase from the products database, i.e. if someone comes in and buys 2 cat toys, the cat toy stock should go down by 2, remember that someone can't buy something if it doesn't exist.</li>\n",
    "        </ul>\n",
    "    </li>\n",
    "    <li>You can look at the chinook.db database's layout by looking at the sqlite-sample-database-diagram-color.pdf file. Answer the following:</li>\n",
    "        <ol>\n",
    "            <li>Examine the tracks table. What is the most popular genre? The least popular?</li>\n",
    "            <li>Write a function that takes in an ArtistId and returns a list of their tracks.</li>\n",
    "        </ol>\n",
    "</ol>"
   ]
  },
  {
   "cell_type": "code",
   "execution_count": 8,
   "metadata": {},
   "outputs": [],
   "source": [
    "#### SPACE TO ANSWER #####\n",
    "\n",
    "\n",
    "\n",
    "\n",
    "\n",
    "\n",
    "\n",
    "\n"
   ]
  },
  {
   "cell_type": "code",
   "execution_count": 9,
   "metadata": {},
   "outputs": [],
   "source": [
    "#### SPACE TO ANSWER #####\n",
    "\n",
    "\n",
    "\n",
    "\n",
    "\n",
    "\n",
    "\n",
    "\n"
   ]
  },
  {
   "cell_type": "code",
   "execution_count": 10,
   "metadata": {},
   "outputs": [],
   "source": [
    "#### SPACE TO ANSWER #####\n",
    "\n",
    "\n",
    "\n",
    "\n",
    "\n",
    "\n",
    "\n",
    "\n"
   ]
  },
  {
   "cell_type": "code",
   "execution_count": 11,
   "metadata": {},
   "outputs": [],
   "source": [
    "#### SPACE TO ANSWER #####\n",
    "\n",
    "\n",
    "\n",
    "\n",
    "\n",
    "\n",
    "\n",
    "\n"
   ]
  },
  {
   "cell_type": "code",
   "execution_count": 12,
   "metadata": {},
   "outputs": [],
   "source": [
    "#### SPACE TO ANSWER #####\n",
    "\n",
    "\n",
    "\n",
    "\n",
    "\n",
    "\n",
    "\n",
    "\n"
   ]
  },
  {
   "cell_type": "markdown",
   "metadata": {},
   "source": [
    "## Python API Wrappers\n",
    "\n",
    "<ol>\n",
    "    <li>Work through the Python Wrappers for APIs.</li>\n",
    "    <li>Using `praw` scrape the top ten \"hot\" posts from your favorite subreddit.</li>\n",
    "    <li>Using `praw` learn about <i>CommentForest</i>, so you are able to extract all of the comments and subcomments from a post.</li>\n",
    "    <li>Look at the documentation for `Spotipy` <a href=\"https://spotipy.readthedocs.io/en/2.6.1/#\">https://spotipy.readthedocs.io/en/2.6.1/#</a>.</li>\n",
    "    <li>Find the top ten songs for the Red Hot Chilli Peppers using `Spotipy`</li>\n",
    "</ol>"
   ]
  },
  {
   "cell_type": "code",
   "execution_count": 10,
   "metadata": {},
   "outputs": [],
   "source": [
    "#### SPACE TO ANSWER #####\n",
    "\n",
    "\n",
    "\n",
    "\n",
    "\n",
    "\n",
    "\n",
    "\n"
   ]
  },
  {
   "cell_type": "code",
   "execution_count": 10,
   "metadata": {},
   "outputs": [],
   "source": [
    "#### SPACE TO ANSWER #####\n",
    "\n",
    "\n",
    "\n",
    "\n",
    "\n",
    "\n",
    "\n",
    "\n"
   ]
  },
  {
   "cell_type": "code",
   "execution_count": 10,
   "metadata": {},
   "outputs": [],
   "source": [
    "#### SPACE TO ANSWER #####\n",
    "\n",
    "\n",
    "\n",
    "\n",
    "\n",
    "\n",
    "\n",
    "\n"
   ]
  },
  {
   "cell_type": "code",
   "execution_count": 10,
   "metadata": {},
   "outputs": [],
   "source": [
    "#### SPACE TO ANSWER #####\n",
    "\n",
    "\n",
    "\n",
    "\n",
    "\n",
    "\n",
    "\n",
    "\n"
   ]
  },
  {
   "cell_type": "code",
   "execution_count": 10,
   "metadata": {},
   "outputs": [],
   "source": [
    "#### SPACE TO ANSWER #####\n",
    "\n",
    "\n",
    "\n",
    "\n",
    "\n",
    "\n",
    "\n",
    "\n"
   ]
  }
 ],
 "metadata": {
  "kernelspec": {
   "display_name": "Python 3",
   "language": "python",
   "name": "python3"
  },
  "language_info": {
   "codemirror_mode": {
    "name": "ipython",
    "version": 3
   },
   "file_extension": ".py",
   "mimetype": "text/x-python",
   "name": "python",
   "nbconvert_exporter": "python",
   "pygments_lexer": "ipython3",
   "version": "3.7.4"
  }
 },
 "nbformat": 4,
 "nbformat_minor": 2
}
