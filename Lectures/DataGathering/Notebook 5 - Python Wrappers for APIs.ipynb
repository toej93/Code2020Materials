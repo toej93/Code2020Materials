{
 "cells": [
  {
   "cell_type": "code",
   "execution_count": 1,
   "metadata": {},
   "outputs": [],
   "source": [
    "# Our standard packages\n",
    "import pandas as pd"
   ]
  },
  {
   "cell_type": "markdown",
   "metadata": {},
   "source": [
    "## Python Wrappers for APIs\n",
    "\n",
    "What the heck is an API? Instead of reading through a bunch of sentences watch this video, https://www.youtube.com/watch?v=s7wmiS2mSXY, it explains the concept of an API in a great way.\n",
    "\n",
    "Now these APIs exist for many of your favorite services like Twitter, Reddit, Spotify, and more. Now for a number of sites you'd have to write your own code to interact with the API, however, for the most popular digital services someone else has already done that for us. We'll go through a couple different examples of python wrappers for APIs.\n",
    "\n",
    "### Public APIs, No Credentials Needed\n",
    "\n",
    "We'll start off with public APIs that don't require any credentials. One fine example is `nba_api`. This package is a python wrapper for the nba stats API. You can find its documentation here on github, https://github.com/swar/nba_api. We'll now show how we can grab nba shot chart data with `nba_api`. \n",
    "\n",
    "#### Chart Some Shots\n",
    "\n",
    "Perhaps you've seen a shot chart like the one seen here, https://i.redd.it/6g9o1dwz1oc21.png. Maybe you'd like to make code to make a chart just like that, but how do you get the data? The data exists here, https://stats.nba.com, but as we said you don't want go copy and paste the data by hand, and beautiful soup code might be a hassle. Enter `nba_api`.\n",
    "\n",
    "Unless you've already used `nba_api` you'll need to install before you continue."
   ]
  },
  {
   "cell_type": "code",
   "execution_count": 3,
   "metadata": {},
   "outputs": [],
   "source": [
    "# Run the following to check\n",
    "import nba_api"
   ]
  },
  {
   "cell_type": "markdown",
   "metadata": {},
   "source": [
    "We'll first grab a player to chart. Looking at the documentation you can find out that this is done using the `players.get_players()` method from the `stats.static` subpackage.\n",
    "\n",
    "If you have a favorite player you can try to get their shots, if not just follow along."
   ]
  },
  {
   "cell_type": "code",
   "execution_count": 4,
   "metadata": {},
   "outputs": [
    {
     "name": "stdout",
     "output_type": "stream",
     "text": [
      "{'id': 1629636, 'full_name': 'Darius Garland', 'first_name': 'Darius', 'last_name': 'Garland', 'is_active': True}\n"
     ]
    }
   ],
   "source": [
    "# We'll first grab the player we want\n",
    "from nba_api.stats.static import players\n",
    "\n",
    "# Returns a list of all nba players\n",
    "player_list = players.get_players()\n",
    "\n",
    "# Returns the info for Cavs' Darius Garland \n",
    "garland = [player for player in player_list if player['full_name'] == 'Darius Garland'][0]\n",
    "\n",
    "print(garland)"
   ]
  },
  {
   "cell_type": "markdown",
   "metadata": {},
   "source": [
    "With your player's id in hand we can now scrape all of their shot attempts that are available. Again looking at the documentation we can find that this is done with `shotchartdetail` from `nba_api.stats.endpoints`."
   ]
  },
  {
   "cell_type": "code",
   "execution_count": 5,
   "metadata": {},
   "outputs": [],
   "source": [
    "# Import the shotchartdetail\n",
    "from nba_api.stats.endpoints import shotchartdetail"
   ]
  },
  {
   "cell_type": "code",
   "execution_count": 6,
   "metadata": {},
   "outputs": [
    {
     "data": {
      "text/plain": [
       "<nba_api.stats.endpoints.shotchartdetail.ShotChartDetail at 0x107607750>"
      ]
     },
     "execution_count": 6,
     "metadata": {},
     "output_type": "execute_result"
    }
   ],
   "source": [
    "garland_shots = shotchartdetail.ShotChartDetail(player_id = garland['id'], team_id = 0, \n",
    "                                                season_nullable = '2019-20',season_type_all_star = 'Regular Season',\n",
    "                                                context_measure_simple = 'FGA')\n",
    "\n",
    "garland_shots"
   ]
  },
  {
   "cell_type": "markdown",
   "metadata": {},
   "source": [
    "The output of the above code is a `ShotChartDetail` object. We can use this to produce a dataframe containing all of the shot locations with the method `get_data_frames()`."
   ]
  },
  {
   "cell_type": "code",
   "execution_count": 7,
   "metadata": {},
   "outputs": [
    {
     "data": {
      "text/html": [
       "<div>\n",
       "<style scoped>\n",
       "    .dataframe tbody tr th:only-of-type {\n",
       "        vertical-align: middle;\n",
       "    }\n",
       "\n",
       "    .dataframe tbody tr th {\n",
       "        vertical-align: top;\n",
       "    }\n",
       "\n",
       "    .dataframe thead th {\n",
       "        text-align: right;\n",
       "    }\n",
       "</style>\n",
       "<table border=\"1\" class=\"dataframe\">\n",
       "  <thead>\n",
       "    <tr style=\"text-align: right;\">\n",
       "      <th></th>\n",
       "      <th>GRID_TYPE</th>\n",
       "      <th>GAME_ID</th>\n",
       "      <th>GAME_EVENT_ID</th>\n",
       "      <th>PLAYER_ID</th>\n",
       "      <th>PLAYER_NAME</th>\n",
       "      <th>TEAM_ID</th>\n",
       "      <th>TEAM_NAME</th>\n",
       "      <th>PERIOD</th>\n",
       "      <th>MINUTES_REMAINING</th>\n",
       "      <th>SECONDS_REMAINING</th>\n",
       "      <th>...</th>\n",
       "      <th>SHOT_ZONE_AREA</th>\n",
       "      <th>SHOT_ZONE_RANGE</th>\n",
       "      <th>SHOT_DISTANCE</th>\n",
       "      <th>LOC_X</th>\n",
       "      <th>LOC_Y</th>\n",
       "      <th>SHOT_ATTEMPTED_FLAG</th>\n",
       "      <th>SHOT_MADE_FLAG</th>\n",
       "      <th>GAME_DATE</th>\n",
       "      <th>HTM</th>\n",
       "      <th>VTM</th>\n",
       "    </tr>\n",
       "  </thead>\n",
       "  <tbody>\n",
       "    <tr>\n",
       "      <td>0</td>\n",
       "      <td>Shot Chart Detail</td>\n",
       "      <td>0021900005</td>\n",
       "      <td>20</td>\n",
       "      <td>1629636</td>\n",
       "      <td>Darius Garland</td>\n",
       "      <td>1610612739</td>\n",
       "      <td>Cleveland Cavaliers</td>\n",
       "      <td>1</td>\n",
       "      <td>10</td>\n",
       "      <td>11</td>\n",
       "      <td>...</td>\n",
       "      <td>Right Side(R)</td>\n",
       "      <td>8-16 ft.</td>\n",
       "      <td>13</td>\n",
       "      <td>84</td>\n",
       "      <td>100</td>\n",
       "      <td>1</td>\n",
       "      <td>0</td>\n",
       "      <td>20191023</td>\n",
       "      <td>ORL</td>\n",
       "      <td>CLE</td>\n",
       "    </tr>\n",
       "    <tr>\n",
       "      <td>1</td>\n",
       "      <td>Shot Chart Detail</td>\n",
       "      <td>0021900005</td>\n",
       "      <td>45</td>\n",
       "      <td>1629636</td>\n",
       "      <td>Darius Garland</td>\n",
       "      <td>1610612739</td>\n",
       "      <td>Cleveland Cavaliers</td>\n",
       "      <td>1</td>\n",
       "      <td>7</td>\n",
       "      <td>37</td>\n",
       "      <td>...</td>\n",
       "      <td>Right Side Center(RC)</td>\n",
       "      <td>24+ ft.</td>\n",
       "      <td>28</td>\n",
       "      <td>149</td>\n",
       "      <td>245</td>\n",
       "      <td>1</td>\n",
       "      <td>1</td>\n",
       "      <td>20191023</td>\n",
       "      <td>ORL</td>\n",
       "      <td>CLE</td>\n",
       "    </tr>\n",
       "    <tr>\n",
       "      <td>2</td>\n",
       "      <td>Shot Chart Detail</td>\n",
       "      <td>0021900005</td>\n",
       "      <td>58</td>\n",
       "      <td>1629636</td>\n",
       "      <td>Darius Garland</td>\n",
       "      <td>1610612739</td>\n",
       "      <td>Cleveland Cavaliers</td>\n",
       "      <td>1</td>\n",
       "      <td>6</td>\n",
       "      <td>10</td>\n",
       "      <td>...</td>\n",
       "      <td>Center(C)</td>\n",
       "      <td>8-16 ft.</td>\n",
       "      <td>15</td>\n",
       "      <td>12</td>\n",
       "      <td>158</td>\n",
       "      <td>1</td>\n",
       "      <td>0</td>\n",
       "      <td>20191023</td>\n",
       "      <td>ORL</td>\n",
       "      <td>CLE</td>\n",
       "    </tr>\n",
       "    <tr>\n",
       "      <td>3</td>\n",
       "      <td>Shot Chart Detail</td>\n",
       "      <td>0021900005</td>\n",
       "      <td>328</td>\n",
       "      <td>1629636</td>\n",
       "      <td>Darius Garland</td>\n",
       "      <td>1610612739</td>\n",
       "      <td>Cleveland Cavaliers</td>\n",
       "      <td>2</td>\n",
       "      <td>0</td>\n",
       "      <td>8</td>\n",
       "      <td>...</td>\n",
       "      <td>Left Side Center(LC)</td>\n",
       "      <td>24+ ft.</td>\n",
       "      <td>25</td>\n",
       "      <td>-144</td>\n",
       "      <td>210</td>\n",
       "      <td>1</td>\n",
       "      <td>1</td>\n",
       "      <td>20191023</td>\n",
       "      <td>ORL</td>\n",
       "      <td>CLE</td>\n",
       "    </tr>\n",
       "    <tr>\n",
       "      <td>4</td>\n",
       "      <td>Shot Chart Detail</td>\n",
       "      <td>0021900005</td>\n",
       "      <td>345</td>\n",
       "      <td>1629636</td>\n",
       "      <td>Darius Garland</td>\n",
       "      <td>1610612739</td>\n",
       "      <td>Cleveland Cavaliers</td>\n",
       "      <td>3</td>\n",
       "      <td>11</td>\n",
       "      <td>19</td>\n",
       "      <td>...</td>\n",
       "      <td>Center(C)</td>\n",
       "      <td>8-16 ft.</td>\n",
       "      <td>13</td>\n",
       "      <td>41</td>\n",
       "      <td>131</td>\n",
       "      <td>1</td>\n",
       "      <td>0</td>\n",
       "      <td>20191023</td>\n",
       "      <td>ORL</td>\n",
       "      <td>CLE</td>\n",
       "    </tr>\n",
       "  </tbody>\n",
       "</table>\n",
       "<p>5 rows × 24 columns</p>\n",
       "</div>"
      ],
      "text/plain": [
       "           GRID_TYPE     GAME_ID  GAME_EVENT_ID  PLAYER_ID     PLAYER_NAME  \\\n",
       "0  Shot Chart Detail  0021900005             20    1629636  Darius Garland   \n",
       "1  Shot Chart Detail  0021900005             45    1629636  Darius Garland   \n",
       "2  Shot Chart Detail  0021900005             58    1629636  Darius Garland   \n",
       "3  Shot Chart Detail  0021900005            328    1629636  Darius Garland   \n",
       "4  Shot Chart Detail  0021900005            345    1629636  Darius Garland   \n",
       "\n",
       "      TEAM_ID            TEAM_NAME  PERIOD  MINUTES_REMAINING  \\\n",
       "0  1610612739  Cleveland Cavaliers       1                 10   \n",
       "1  1610612739  Cleveland Cavaliers       1                  7   \n",
       "2  1610612739  Cleveland Cavaliers       1                  6   \n",
       "3  1610612739  Cleveland Cavaliers       2                  0   \n",
       "4  1610612739  Cleveland Cavaliers       3                 11   \n",
       "\n",
       "   SECONDS_REMAINING  ...         SHOT_ZONE_AREA SHOT_ZONE_RANGE  \\\n",
       "0                 11  ...          Right Side(R)        8-16 ft.   \n",
       "1                 37  ...  Right Side Center(RC)         24+ ft.   \n",
       "2                 10  ...              Center(C)        8-16 ft.   \n",
       "3                  8  ...   Left Side Center(LC)         24+ ft.   \n",
       "4                 19  ...              Center(C)        8-16 ft.   \n",
       "\n",
       "  SHOT_DISTANCE LOC_X LOC_Y SHOT_ATTEMPTED_FLAG  SHOT_MADE_FLAG  GAME_DATE  \\\n",
       "0            13    84   100                   1               0   20191023   \n",
       "1            28   149   245                   1               1   20191023   \n",
       "2            15    12   158                   1               0   20191023   \n",
       "3            25  -144   210                   1               1   20191023   \n",
       "4            13    41   131                   1               0   20191023   \n",
       "\n",
       "   HTM  VTM  \n",
       "0  ORL  CLE  \n",
       "1  ORL  CLE  \n",
       "2  ORL  CLE  \n",
       "3  ORL  CLE  \n",
       "4  ORL  CLE  \n",
       "\n",
       "[5 rows x 24 columns]"
      ]
     },
     "execution_count": 7,
     "metadata": {},
     "output_type": "execute_result"
    }
   ],
   "source": [
    "garland_shots_df = garland_shots.get_data_frames()[0]\n",
    "\n",
    "garland_shots_df.head()"
   ]
  },
  {
   "cell_type": "code",
   "execution_count": 9,
   "metadata": {},
   "outputs": [
    {
     "data": {
      "image/png": "[encoded data removed]",
      "text/plain": [
       "<Figure size 432x288 with 1 Axes>"
      ]
     },
     "metadata": {
      "needs_background": "light"
     },
     "output_type": "display_data"
    }
   ],
   "source": [
    "# Now we can plot!\n",
    "import matplotlib.pyplot as plt\n",
    "%matplotlib inline\n",
    "\n",
    "shots_made = garland_shots_df.loc[garland_shots_df.SHOT_MADE_FLAG == 1,['LOC_X','LOC_Y']]\n",
    "shots_missed = garland_shots_df.loc[garland_shots_df.SHOT_MADE_FLAG == 0,['LOC_X','LOC_Y']]\n",
    "\n",
    "plt.plot(shots_made['LOC_X'], shots_made['LOC_Y'], 'b.', label=\"Shots made\")\n",
    "plt.plot(shots_missed['LOC_X'], shots_missed['LOC_Y'], 'rx',label=\"Shots missed\")\n",
    "plt.xlabel(\"x-coordinate\")\n",
    "plt.ylabel(\"y-coordinate\")\n",
    "plt.legend()\n",
    "plt.show()"
   ]
  },
  {
   "cell_type": "markdown",
   "metadata": {},
   "source": [
    "Now this doesn't look as nice as the shot chart we saw earlier, that requires more plotting code. "
   ]
  },
  {
   "cell_type": "markdown",
   "metadata": {},
   "source": [
    "### APIs That Require Credentials\n",
    "\n",
    "The NBA stats API was easy enough, we were able to get the data without having to provide credentials. However, not all websites are that kind. For instance popular social media websites are very stingy with their data. These websites know that lots of people would be very interested in using their data to make apps and sell products using their users' data.\n",
    "\n",
    "Let's go through an example where you'll need some credentials to gain access.\n",
    "\n",
    "#### I Read it on Reddit\n",
    "\n",
    "Reddit is a website that requires some credentials for API access. A popular python wrapper for their API is `praw` which stands for python Reddit API wrapper.\n",
    "\n",
    "\n",
    "First you'll need an account, you can set up an account here, https://www.reddit.com. Next you can grab your credentials by creating an \"app\" here, https://www.reddit.com/prefs/apps. Note: In doing this you are agreeing not to use the data for commercial reasons. If you plan on developing an application in order to profit from Reddit data you need the explicit approval from Reddit. Don't mess around in this arena, you don't want a lawsuit on your hands.\n",
    "\n",
    "##### Also do not share your credentials with anyone! Keep these private and never share them online.\n",
    "\n",
    "I've stored my credentials on my local machine and will load them from a python file on my laptop. If you'd like to follow along with the code you'll need to enter your credentials by hand in the following block of code."
   ]
  },
  {
   "cell_type": "code",
   "execution_count": 14,
   "metadata": {},
   "outputs": [
    {
     "ename": "ModuleNotFoundError",
     "evalue": "No module named 'get_auth'",
     "output_type": "error",
     "traceback": [
      "\u001b[0;31m---------------------------------------------------------------------------\u001b[0m",
      "\u001b[0;31mModuleNotFoundError\u001b[0m                       Traceback (most recent call last)",
      "\u001b[0;32m<ipython-input-14-e15f5b0d517f>\u001b[0m in \u001b[0;36m<module>\u001b[0;34m\u001b[0m\n\u001b[1;32m      1\u001b[0m \u001b[0;31m# Importing my credentials \"package\"\u001b[0m\u001b[0;34m\u001b[0m\u001b[0;34m\u001b[0m\u001b[0;34m\u001b[0m\u001b[0m\n\u001b[0;32m----> 2\u001b[0;31m \u001b[0;32mimport\u001b[0m \u001b[0mget_auth\u001b[0m\u001b[0;34m\u001b[0m\u001b[0;34m\u001b[0m\u001b[0m\n\u001b[0m",
      "\u001b[0;31mModuleNotFoundError\u001b[0m: No module named 'get_auth'"
     ]
    }
   ],
   "source": [
    "# Importing my credentials \"package\"\n",
    "import get_auth"
   ]
  },
  {
   "cell_type": "code",
   "execution_count": 13,
   "metadata": {},
   "outputs": [
    {
     "ename": "NameError",
     "evalue": "name 'get_auth' is not defined",
     "output_type": "error",
     "traceback": [
      "\u001b[0;31m---------------------------------------------------------------------------\u001b[0m",
      "\u001b[0;31mNameError\u001b[0m                                 Traceback (most recent call last)",
      "\u001b[0;32m<ipython-input-13-d241e053e498>\u001b[0m in \u001b[0;36m<module>\u001b[0;34m\u001b[0m\n\u001b[0;32m----> 1\u001b[0;31m \u001b[0mclient_id\u001b[0m\u001b[0;34m,\u001b[0m \u001b[0mclient_secret\u001b[0m\u001b[0;34m,\u001b[0m \u001b[0muser_agent\u001b[0m\u001b[0;34m,\u001b[0m \u001b[0musername\u001b[0m\u001b[0;34m,\u001b[0m \u001b[0mpassword\u001b[0m \u001b[0;34m=\u001b[0m \u001b[0mget_auth\u001b[0m\u001b[0;34m.\u001b[0m\u001b[0mGiveRedditCred\u001b[0m\u001b[0;34m(\u001b[0m\u001b[0;34m)\u001b[0m\u001b[0;34m\u001b[0m\u001b[0;34m\u001b[0m\u001b[0m\n\u001b[0m",
      "\u001b[0;31mNameError\u001b[0m: name 'get_auth' is not defined"
     ]
    }
   ],
   "source": [
    "client_id, client_secret, user_agent, username, password = get_auth.GiveRedditCred()"
   ]
  },
  {
   "cell_type": "markdown",
   "metadata": {},
   "source": [
    "What are credentials? For Reddit once you've registered an app, you'll be given a client id, and a client secret. This help Reddit know who you are and what you're authorized to do. The user agent is a string, since we're just scraping data make it say something like `android:com.example.myredditapp:v1.2.3 (by /u/kemitche)`. The username is your Reddit username.\n",
    "\n",
    "Once your credentials are set we can get going!"
   ]
  },
  {
   "cell_type": "code",
   "execution_count": 15,
   "metadata": {},
   "outputs": [],
   "source": [
    "# Check that praw is properly installed\n",
    "import praw"
   ]
  },
  {
   "cell_type": "markdown",
   "metadata": {},
   "source": [
    "Before we can scrape data we have to make a read-only instance of Reddit. This just means we'll be accessing the Reddit API and we'll only be reading the existing data, i.e. we aren't making a Reddit bot."
   ]
  },
  {
   "cell_type": "code",
   "execution_count": 16,
   "metadata": {},
   "outputs": [
    {
     "ename": "NameError",
     "evalue": "name 'client_id' is not defined",
     "output_type": "error",
     "traceback": [
      "\u001b[0;31m---------------------------------------------------------------------------\u001b[0m",
      "\u001b[0;31mNameError\u001b[0m                                 Traceback (most recent call last)",
      "\u001b[0;32m<ipython-input-16-d9a7e7d03639>\u001b[0m in \u001b[0;36m<module>\u001b[0;34m\u001b[0m\n\u001b[1;32m      1\u001b[0m \u001b[0;31m# Make the read only instance\u001b[0m\u001b[0;34m\u001b[0m\u001b[0;34m\u001b[0m\u001b[0;34m\u001b[0m\u001b[0m\n\u001b[0;32m----> 2\u001b[0;31m reddit = praw.Reddit(client_id = client_id,\n\u001b[0m\u001b[1;32m      3\u001b[0m                      \u001b[0mclient_secret\u001b[0m \u001b[0;34m=\u001b[0m \u001b[0mclient_secret\u001b[0m\u001b[0;34m,\u001b[0m\u001b[0;34m\u001b[0m\u001b[0;34m\u001b[0m\u001b[0m\n\u001b[1;32m      4\u001b[0m                      \u001b[0muser_agent\u001b[0m \u001b[0;34m=\u001b[0m \u001b[0muser_agent\u001b[0m\u001b[0;34m,\u001b[0m\u001b[0;34m\u001b[0m\u001b[0;34m\u001b[0m\u001b[0m\n\u001b[1;32m      5\u001b[0m                      username = username)\n",
      "\u001b[0;31mNameError\u001b[0m: name 'client_id' is not defined"
     ]
    }
   ],
   "source": [
    "# Make the read only instance\n",
    "reddit = praw.Reddit(client_id = client_id,\n",
    "                     client_secret = client_secret,\n",
    "                     user_agent = user_agent, \n",
    "                     username = username)"
   ]
  },
  {
   "cell_type": "code",
   "execution_count": 30,
   "metadata": {},
   "outputs": [
    {
     "name": "stdout",
     "output_type": "stream",
     "text": [
      "True\n"
     ]
    }
   ],
   "source": [
    "# Test to see that we correctly did it\n",
    "# You should see True\n",
    "print(reddit.read_only)"
   ]
  },
  {
   "cell_type": "code",
   "execution_count": 57,
   "metadata": {},
   "outputs": [],
   "source": [
    "# Choose a subreddit you like here\n",
    "# We'll default with /r/awww\n",
    "subreddit = \"awww\"\n",
    "\n",
    "# This turns creates a subreddit object\n",
    "# then pull the top 5 best submissions at the time it was pulled\n",
    "# then stores them in a list\n",
    "top_5 = list(reddit.subreddit(subreddit).top(limit=5,time_filter='day'))"
   ]
  },
  {
   "cell_type": "code",
   "execution_count": 58,
   "metadata": {},
   "outputs": [
    {
     "data": {
      "text/plain": [
       "[Submission(id='em2yrl'),\n",
       " Submission(id='em8mpq'),\n",
       " Submission(id='em3exr'),\n",
       " Submission(id='em1opz'),\n",
       " Submission(id='em6p6x')]"
      ]
     },
     "execution_count": 58,
     "metadata": {},
     "output_type": "execute_result"
    }
   ],
   "source": [
    "top_5"
   ]
  },
  {
   "cell_type": "markdown",
   "metadata": {},
   "source": [
    "Let's look at the third post"
   ]
  },
  {
   "cell_type": "code",
   "execution_count": 59,
   "metadata": {},
   "outputs": [
    {
     "name": "stdout",
     "output_type": "stream",
     "text": [
      "['STR_FIELD', '__class__', '__delattr__', '__dict__', '__dir__', '__doc__', '__eq__', '__format__', '__ge__', '__getattr__', '__getattribute__', '__gt__', '__hash__', '__init__', '__init_subclass__', '__le__', '__lt__', '__module__', '__ne__', '__new__', '__reduce__', '__reduce_ex__', '__repr__', '__setattr__', '__sizeof__', '__str__', '__subclasshook__', '__weakref__', '_chunk', '_comments_by_id', '_fetch', '_fetch_data', '_fetch_info', '_fetched', '_kind', '_reddit', '_reset_attributes', '_safely_add_arguments', '_url_parts', '_vote', 'all_awardings', 'allow_live_comments', 'approved_at_utc', 'approved_by', 'archived', 'author', 'author_flair_background_color', 'author_flair_css_class', 'author_flair_richtext', 'author_flair_template_id', 'author_flair_text', 'author_flair_text_color', 'author_flair_type', 'author_fullname', 'author_patreon_flair', 'author_premium', 'awarders', 'banned_at_utc', 'banned_by', 'can_gild', 'can_mod_post', 'category', 'clear_vote', 'clicked', 'comment_limit', 'comment_sort', 'comments', 'content_categories', 'contest_mode', 'created', 'created_utc', 'crosspost', 'delete', 'disable_inbox_replies', 'discussion_type', 'distinguished', 'domain', 'downs', 'downvote', 'duplicates', 'edit', 'edited', 'enable_inbox_replies', 'flair', 'fullname', 'gild', 'gilded', 'gildings', 'hidden', 'hide', 'hide_score', 'id', 'id_from_url', 'is_crosspostable', 'is_meta', 'is_original_content', 'is_reddit_media_domain', 'is_robot_indexable', 'is_self', 'is_video', 'likes', 'link_flair_background_color', 'link_flair_css_class', 'link_flair_richtext', 'link_flair_text', 'link_flair_text_color', 'link_flair_type', 'locked', 'mark_visited', 'media', 'media_embed', 'media_only', 'mod', 'mod_note', 'mod_reason_by', 'mod_reason_title', 'mod_reports', 'name', 'no_follow', 'num_comments', 'num_crossposts', 'num_reports', 'over_18', 'parent_whitelist_status', 'parse', 'permalink', 'pinned', 'post_hint', 'preview', 'pwls', 'quarantine', 'removal_reason', 'removed_by', 'removed_by_category', 'reply', 'report', 'report_reasons', 'save', 'saved', 'score', 'secure_media', 'secure_media_embed', 'selftext', 'selftext_html', 'send_replies', 'shortlink', 'spoiler', 'steward_reports', 'stickied', 'subreddit', 'subreddit_id', 'subreddit_name_prefixed', 'subreddit_subscribers', 'subreddit_type', 'suggested_sort', 'thumbnail', 'thumbnail_height', 'thumbnail_width', 'title', 'total_awards_received', 'unhide', 'unsave', 'ups', 'upvote', 'url', 'user_reports', 'view_count', 'visited', 'whitelist_status', 'wls']\n"
     ]
    }
   ],
   "source": [
    "post = top_5[2]\n",
    "\n",
    "print(dir(post))"
   ]
  },
  {
   "cell_type": "code",
   "execution_count": 60,
   "metadata": {},
   "outputs": [
    {
     "name": "stdout",
     "output_type": "stream",
     "text": [
      "Powerbomb1411: It took 35 years, I'm fostering with intent to adopt. After having to remind myself I'm invading her space several times, I decided to take a nap and she decided she wanted to join me. But she's definitely fat, needs to lose weight and her farts smell like KFC.\n"
     ]
    }
   ],
   "source": [
    "print(str(post.author) + \":\", post.title)"
   ]
  },
  {
   "cell_type": "markdown",
   "metadata": {},
   "source": [
    "We can even look at the comments."
   ]
  },
  {
   "cell_type": "code",
   "execution_count": 62,
   "metadata": {},
   "outputs": [
    {
     "name": "stdout",
     "output_type": "stream",
     "text": [
      "0 sls1245:  None : What do you mean by reminding yourself that you’re invading her space?\n",
      "\n",
      "1 BryndenRivers13:  None : Well, she can lose some weight by accompanying a human for a long walk(>45 min). It certainly won't harm the human, no matter his/her BMI index.\n",
      "\n"
     ]
    }
   ],
   "source": [
    "i = 0\n",
    "for comment in post.comments:\n",
    "    if i < 5:\n",
    "        print(i,str(comment.author) + \": \",comment.author_flair_text,\":\", comment.body)\n",
    "        print()\n",
    "    else:\n",
    "        break\n",
    "    i = i + 1"
   ]
  },
  {
   "cell_type": "code",
   "execution_count": null,
   "metadata": {},
   "outputs": [],
   "source": []
  }
 ],
 "metadata": {
  "kernelspec": {
   "display_name": "Python 3",
   "language": "python",
   "name": "python3"
  },
  "language_info": {
   "codemirror_mode": {
    "name": "ipython",
    "version": 3
   },
   "file_extension": ".py",
   "mimetype": "text/x-python",
   "name": "python",
   "nbconvert_exporter": "python",
   "pygments_lexer": "ipython3",
   "version": "3.7.4"
  }
 },
 "nbformat": 4,
 "nbformat_minor": 2
}
