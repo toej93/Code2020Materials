{
 "cells": [
  {
   "cell_type": "markdown",
   "metadata": {},
   "source": [
    "# Time Series Test Errors and Cross-Validation\n",
    "\n",
    "<q>Prediction is very difficult, especially if it's about the future.</q>\n",
    "\n",
    "--Nils Bohr, Nobel laureate in Physics \n",
    "\n",
    "This quote reiterates what we've said about making predictions in the regression material. We can make a model that is very good at fitting the data we have but there is no guarantee that model does well on unseen data (the future in time series).\n",
    "\n",
    "Thus, before introducing more time series forecasting models we'll quickly review how we can adjust the way we compute test errors and perform cross validation. These techniques allow us to attempt to find a model that predicts well.\n",
    "\n",
    "## What You'll Accomplish\n",
    "\n",
    "In particular you'll:\n",
    "<ul>\n",
    "    <li>Compute test errors for the average and na&iuml;ve methods on the marathon data,</li>\n",
    "    <li>Learn about the differences for cross-validation,</li>\n",
    "    <li>Perform cross-validation on the measles data to compute the best method among the average, na&iuml;ve and, seasonal na&iuml;ve methods</li>\n",
    "</ul>\n",
    "\n",
    "Let's import the packages we'll need"
   ]
  },
  {
   "cell_type": "code",
   "execution_count": 2,
   "metadata": {},
   "outputs": [],
   "source": [
    "# import the packages we'll use\n",
    "from datetime import datetime\n",
    "\n",
    "## For data handling\n",
    "import pandas as pd\n",
    "import numpy as np\n",
    "\n",
    "## For plotting\n",
    "import matplotlib.pyplot as plt\n",
    "import seaborn as sns\n",
    "\n",
    "## This sets the plot style\n",
    "## to have a grid on a white background\n",
    "sns.set_style(\"whitegrid\")"
   ]
  },
  {
   "cell_type": "markdown",
   "metadata": {},
   "source": [
    "## Test Errors\n",
    "\n",
    "Although we are working with time series data, the error measures we use will still be MSE and RMSE. \n",
    "\n",
    "In this setting we can refer to the test error as the forecast errors.\n",
    "\n",
    "Let $T$ be the length of the entire time series, $T_{\\text{train}}$ be the length of the training set, let $y_t$ be the target value observed at time $t$, and assume you have some algorithm that produces a prediction, $\\hat{y}_t$ at time $t$.\n",
    "\n",
    "Then the testing MSE is given by:\n",
    "$$\n",
    "MSE = \\frac{1}{T - T_{\\text{train}}} \\sum_{t = T_{\\text{train}} + 1}^T \\left( y_t - \\hat{y}_t \\right)^2,\n",
    "$$\n",
    "\n",
    "and $RMSE = \\sqrt{MSE}$.\n",
    "\n",
    "### Horizons\n",
    "\n",
    "The <i>horizon</i> of your model is how far out you'd like to predict. For example:\n",
    "<ul>\n",
    "    <li>A model that predicts next quarter's earnings has a horizon of $1$ quarter,</li>\n",
    "    <li>Predicting monthly cases of influenza in 2021 would be a model with a horizon of $1$ year or $12$ months,</li>\n",
    "    <li>A model predicting daily mileage in July 2020 would have a horizon of $1$ month or $31$ days.</li>\n",
    "</ul>\n",
    "\n",
    "Your desired forecasting horizon (how far out into the future you'd like to predict) should determine how large your test set is.\n",
    "\n",
    "## Practice\n",
    "\n",
    "Return to the `marathon` data. We'd like to see if we could predict out the winning times over the next $5$ years.\n",
    "\n",
    "Using both the average method and the na&iuml;ve methods compute the test RMSE. Which method performs better on this data?"
   ]
  },
  {
   "cell_type": "code",
   "execution_count": 3,
   "metadata": {},
   "outputs": [],
   "source": [
    "marathon = pd.read_csv(\"marathon.csv\", parse_dates = ['year'])"
   ]
  },
  {
   "cell_type": "code",
   "execution_count": 7,
   "metadata": {},
   "outputs": [
    {
     "data": {
      "text/html": [
       "<div>\n",
       "<style scoped>\n",
       "    .dataframe tbody tr th:only-of-type {\n",
       "        vertical-align: middle;\n",
       "    }\n",
       "\n",
       "    .dataframe tbody tr th {\n",
       "        vertical-align: top;\n",
       "    }\n",
       "\n",
       "    .dataframe thead th {\n",
       "        text-align: right;\n",
       "    }\n",
       "</style>\n",
       "<table border=\"1\" class=\"dataframe\">\n",
       "  <thead>\n",
       "    <tr style=\"text-align: right;\">\n",
       "      <th></th>\n",
       "      <th>year</th>\n",
       "      <th>time</th>\n",
       "    </tr>\n",
       "  </thead>\n",
       "  <tbody>\n",
       "    <tr>\n",
       "      <td>115</td>\n",
       "      <td>2012-01-01</td>\n",
       "      <td>132.666667</td>\n",
       "    </tr>\n",
       "    <tr>\n",
       "      <td>116</td>\n",
       "      <td>2013-01-01</td>\n",
       "      <td>130.366667</td>\n",
       "    </tr>\n",
       "    <tr>\n",
       "      <td>117</td>\n",
       "      <td>2014-01-01</td>\n",
       "      <td>128.616667</td>\n",
       "    </tr>\n",
       "    <tr>\n",
       "      <td>118</td>\n",
       "      <td>2015-01-01</td>\n",
       "      <td>129.283333</td>\n",
       "    </tr>\n",
       "    <tr>\n",
       "      <td>119</td>\n",
       "      <td>2016-01-01</td>\n",
       "      <td>132.733333</td>\n",
       "    </tr>\n",
       "  </tbody>\n",
       "</table>\n",
       "</div>"
      ],
      "text/plain": [
       "          year        time\n",
       "115 2012-01-01  132.666667\n",
       "116 2013-01-01  130.366667\n",
       "117 2014-01-01  128.616667\n",
       "118 2015-01-01  129.283333\n",
       "119 2016-01-01  132.733333"
      ]
     },
     "execution_count": 7,
     "metadata": {},
     "output_type": "execute_result"
    }
   ],
   "source": [
    "## Make the train test split here.\n",
    "marathon_copy = marathon.copy()\n",
    "\n",
    "marathon_train = marathon_copy.iloc[:-5]#last 5 days\n",
    "marathon_test = marathon_copy.drop(marathon_train.index)\n",
    "\n",
    "marathon_test"
   ]
  },
  {
   "cell_type": "code",
   "execution_count": 11,
   "metadata": {},
   "outputs": [
    {
     "data": {
      "text/plain": [
       "11.93678923328363"
      ]
     },
     "execution_count": 11,
     "metadata": {},
     "output_type": "execute_result"
    }
   ],
   "source": [
    "## Calculate the Average Method RMSE here\n",
    "pred = marathon_train.time.mean()\n",
    "rmse = np.sqrt(np.sum(np.power(marathon_test.time-pred,2))/len(marathon_test))\n",
    "rmse"
   ]
  },
  {
   "cell_type": "code",
   "execution_count": 21,
   "metadata": {},
   "outputs": [
    {
     "data": {
      "text/plain": [
       "7.8855"
      ]
     },
     "execution_count": 21,
     "metadata": {},
     "output_type": "execute_result"
    }
   ],
   "source": [
    "## Calculate the Naive Method RMSE here\n",
    "\n",
    "pred_naive = marathon_train.time[len(marathon_train)-1]\n",
    "rmse_naive = np.sqrt(np.sum(np.power(marathon_test.time-pred_naive,2))/len(marathon_test))\n",
    "np.round(rmse_naive,4)"
   ]
  },
  {
   "cell_type": "markdown",
   "metadata": {},
   "source": [
    "## Cross-Validation with Time Series\n",
    "\n",
    "Just like we can't randomly sample for the train test split, we also can't randomly sample for cross-validation.\n",
    "\n",
    "Let's explain what you can do with a figure.\n",
    "\n",
    "<img src=\"TimeSeriesCV.png\" style=\"width:80%\"></img>\n",
    "\n",
    "Just like we've done up to this point you make a train test split. In the image the training data is blue and the test data is red. In this example our horizon is $4$ time units.\n",
    "\n",
    "Now using the training data we have made three CV splits. We treat each split like a new data set. In the first one we use the first $4$ time points to predict on the second $4$. Then we use the first eight points to predict on the next $4$. Our final split uses the first $12$ points to predict on the last $4$.\n",
    "\n",
    "Just like with regression we'd calculate MSE or RMSE on each CV split and find the arithmetic mean across all splits.\n",
    "\n",
    "If you have a set horizon in mind your cv splits should reflect that horizon. For example, if you use cv to see how well your model predicts $1$ time step forward, but then you actually use that model to predict out $4$ time steps forward you shouldn't be shocked if your predictions don't go too well.\n",
    "\n",
    "### Practice\n",
    "\n",
    "Again return to the pre-1963 measles data. Using cross-validation calculate the average RMSE for the average,  na&iuml;ve, and seasonal na&iuml;ve methods. Use a $24$ month horizon. Which model do we expect to perform best?"
   ]
  },
  {
   "cell_type": "code",
   "execution_count": 25,
   "metadata": {},
   "outputs": [],
   "source": [
    "measles = pd.read_csv(\"measles.csv\", parse_dates=['month'])\n",
    "measles_pre1963 = measles.loc[measles.month < datetime(1963,1,1),]"
   ]
  },
  {
   "cell_type": "code",
   "execution_count": 33,
   "metadata": {},
   "outputs": [
    {
     "data": {
      "text/html": [
       "<div>\n",
       "<style scoped>\n",
       "    .dataframe tbody tr th:only-of-type {\n",
       "        vertical-align: middle;\n",
       "    }\n",
       "\n",
       "    .dataframe tbody tr th {\n",
       "        vertical-align: top;\n",
       "    }\n",
       "\n",
       "    .dataframe thead th {\n",
       "        text-align: right;\n",
       "    }\n",
       "</style>\n",
       "<table border=\"1\" class=\"dataframe\">\n",
       "  <thead>\n",
       "    <tr style=\"text-align: right;\">\n",
       "      <th></th>\n",
       "      <th>month</th>\n",
       "      <th>cases</th>\n",
       "    </tr>\n",
       "  </thead>\n",
       "  <tbody>\n",
       "    <tr>\n",
       "      <td>396</td>\n",
       "      <td>1961-01-01</td>\n",
       "      <td>227</td>\n",
       "    </tr>\n",
       "    <tr>\n",
       "      <td>397</td>\n",
       "      <td>1961-02-01</td>\n",
       "      <td>298</td>\n",
       "    </tr>\n",
       "    <tr>\n",
       "      <td>398</td>\n",
       "      <td>1961-03-01</td>\n",
       "      <td>374</td>\n",
       "    </tr>\n",
       "    <tr>\n",
       "      <td>399</td>\n",
       "      <td>1961-04-01</td>\n",
       "      <td>384</td>\n",
       "    </tr>\n",
       "    <tr>\n",
       "      <td>400</td>\n",
       "      <td>1961-05-01</td>\n",
       "      <td>644</td>\n",
       "    </tr>\n",
       "  </tbody>\n",
       "</table>\n",
       "</div>"
      ],
      "text/plain": [
       "         month  cases\n",
       "396 1961-01-01    227\n",
       "397 1961-02-01    298\n",
       "398 1961-03-01    374\n",
       "399 1961-04-01    384\n",
       "400 1961-05-01    644"
      ]
     },
     "execution_count": 33,
     "metadata": {},
     "output_type": "execute_result"
    }
   ],
   "source": [
    "## Make the train test split here\n",
    "measles_copy = measles_pre1963.copy()\n",
    "\n",
    "measles_train = measles_copy.loc[measles.month < datetime(1961,1,1),]\n",
    "measles_test = measles_copy.drop(measles_train.index)\n",
    "measles_test.head()\n",
    "\n",
    "\n",
    "\n",
    "\n"
   ]
  },
  {
   "cell_type": "code",
   "execution_count": 34,
   "metadata": {},
   "outputs": [],
   "source": [
    "## Make CV splits here\n",
    "test_index = []\n",
    "train_index = []\n",
    "\n",
    "for i in range(1,int(len(measles_train)/24)):\n",
    "    if i > 1:\n",
    "        test = measles_train.index[-24*i:-24*(i-1)]\n",
    "    else:\n",
    "        test = measles_train.index[-24:]\n",
    "        \n",
    "    train = measles_train.index[:-24*i]\n",
    "    \n",
    "    test_index.append(test)\n",
    "    train_index.append(train)\n",
    "\n",
    "\n",
    "\n",
    "\n"
   ]
  },
  {
   "cell_type": "code",
   "execution_count": 35,
   "metadata": {},
   "outputs": [],
   "source": [
    "## Make any functions you want to calculate\n",
    "## average rmse here\n",
    "def get_rmse(pred,actual):\n",
    "    res = pred - actual\n",
    "    return np.sqrt(np.sum(np.power(res,2))/len(res))\n",
    "\n",
    "\n",
    "def naive_forecast(train,test):\n",
    "    return list(train.cases)[-1]*np.ones(len(test))\n",
    "\n",
    "def avg_forecast(train,test):\n",
    "    return train.cases.mean()*np.ones(len(test))\n",
    "\n",
    "def naive_seasonal_forecast(train,test):\n",
    "    return list(train.cases)[-len(test):]\n",
    "\n",
    "\n",
    "\n",
    "\n",
    "\n",
    "\n"
   ]
  },
  {
   "cell_type": "code",
   "execution_count": 36,
   "metadata": {},
   "outputs": [],
   "source": [
    "## RMSE for Average Method Here \n",
    "avg_rmses = []\n",
    "\n",
    "for i,j in zip(train_index,test_index):\n",
    "    pred = avg_forecast(measles_train.iloc[i,],measles_train.iloc[j,])\n",
    "    avg_rmses.append(get_rmse(pred,measles_train.iloc[j,].cases))\n",
    "\n",
    "\n",
    "\n",
    "\n",
    "\n"
   ]
  },
  {
   "cell_type": "code",
   "execution_count": 37,
   "metadata": {},
   "outputs": [],
   "source": [
    "## RMSE for the Naive Method here\n",
    "naive_rmses = []\n",
    "\n",
    "for i,j in zip(train_index,test_index):\n",
    "    pred = naive_forecast(measles_train.iloc[i,],measles_train.iloc[j,])\n",
    "    naive_rmses.append(get_rmse(pred,measles_train.iloc[j,].cases))\n",
    "\n",
    "\n",
    "\n",
    "\n",
    "\n"
   ]
  },
  {
   "cell_type": "code",
   "execution_count": 41,
   "metadata": {},
   "outputs": [
    {
     "name": "stdout",
     "output_type": "stream",
     "text": [
      "[823, 789, 949, 1287, 1949, 1840, 845, 335, 176, 170, 231, 832, 1878, 3544, 6410, 7634, 4832, 2594, 893, 204, 86, 58, 47, 92]\n",
      "[364, 603, 1305, 1853, 1865, 1797, 760, 245, 103, 98, 242, 477, 594, 1242, 2461, 4336, 6064, 4247, 1419, 441, 110, 169, 188, 375]\n",
      "[224, 246, 334, 518, 645, 600, 522, 215, 164, 209, 318, 1122, 2443, 4876, 10154, 10720, 6136, 4699, 1335, 249, 63, 59, 115, 188]\n",
      "[282, 381, 549, 1079, 1915, 1770, 948, 380, 184, 246, 515, 1360, 3707, 6441, 8616, 7754, 4945, 2288, 478, 75, 40, 68, 57, 146]\n",
      "[169, 390, 629, 693, 1008, 960, 454, 234, 133, 100, 214, 483, 1055, 1930, 3776, 4777, 5428, 3440, 1012, 232, 73, 89, 90, 88]\n",
      "[254, 379, 669, 1141, 1682, 1613, 854, 202, 88, 174, 234, 625, 1709, 3319, 6807, 6909, 5481, 3548, 802, 159, 64, 32, 47, 83]\n",
      "[60, 82, 171, 207, 221, 358, 194, 68, 18, 79, 181, 231, 809, 2022, 5014, 6597, 4759, 2191, 596, 107, 68, 56, 75, 114]\n",
      "[232, 877, 2174, 3855, 5724, 5760, 1759, 453, 142, 300, 676, 1675, 2567, 5242, 8498, 5458, 2779, 1151, 182, 63, 21, 26, 30, 31]\n",
      "[6336, 13226, 25826, 22741, 8195, 2527, 436, 100, 63, 67, 55, 74, 137, 169, 233, 404, 557, 387, 127, 60, 34, 45, 49, 59]\n",
      "[224, 219, 361, 517, 969, 738, 274, 110, 36, 54, 60, 91, 90, 207, 268, 533, 1365, 1906, 1269, 307, 151, 354, 1050, 2996]\n",
      "[235, 365, 1075, 2253, 3546, 3058, 880, 247, 84, 90, 136, 122, 519, 1585, 5713, 10018, 8634, 6253, 1231, 239, 75, 56, 110, 171]\n",
      "[508, 1576, 4357, 6630, 6813, 5182, 1975, 358, 67, 136, 333, 555, 1426, 4054, 7376, 8792, 8247, 4738, 1143, 213, 87, 99, 154, 219]\n",
      "[1960, 4699, 9635, 9573, 6605, 2697, 601, 139, 50, 55, 71, 131, 133, 168, 431, 652, 1414, 1317, 422, 95, 47, 45, 86, 205]\n",
      "[750, 2010, 4858, 6172, 7095, 4238, 907, 165, 43, 54, 93, 134, 146, 270, 621, 1096, 2271, 2537, 1081, 288, 118, 149, 594, 1183]\n",
      "[288, 241, 347, 378, 498, 324, 151, 69, 44, 42, 34, 121, 316, 781, 1870, 5309, 7499, 5386, 1386, 211, 107, 128, 219, 423]\n"
     ]
    }
   ],
   "source": [
    "## RMSE for the Seasonal Naive method here\n",
    "seasonal_naive_rmses = []\n",
    "\n",
    "for i,j in zip(train_index,test_index):\n",
    "    pred = naive_seasonal_forecast(measles_train.iloc[i,],measles_train.iloc[j,])\n",
    "    seasonal_naive_rmses.append(get_rmse(pred,measles_train.iloc[j,].cases))\n",
    "    print(pred)\n",
    "\n",
    "\n",
    "\n",
    "\n"
   ]
  },
  {
   "cell_type": "code",
   "execution_count": 39,
   "metadata": {},
   "outputs": [
    {
     "name": "stdout",
     "output_type": "stream",
     "text": [
      "Average Method 2590.5528\n",
      "Naive Method 2857.4306\n",
      "Seasonal Naive Method 2500.6819\n"
     ]
    }
   ],
   "source": [
    "## Compare here\n",
    "print(\"Average Method\",np.round(np.mean(avg_rmses),4))\n",
    "print(\"Naive Method\",np.round(np.mean(naive_rmses),4))\n",
    "print(\"Seasonal Naive Method\",np.round(np.mean(seasonal_naive_rmses),4))\n",
    "\n",
    "\n",
    "\n",
    "\n",
    "\n"
   ]
  },
  {
   "cell_type": "markdown",
   "metadata": {},
   "source": [
    "That's it for this notebook!\n",
    "\n",
    "Next we'll see one of the two more advanced forecasting techniques touched on in the Time Series notebooks."
   ]
  },
  {
   "cell_type": "markdown",
   "metadata": {},
   "source": [
    "### References\n",
    "\n",
    "Section 3.4 of <a href=\"https://otexts.com/fpp2/\">Forecasting: Principles and Practice</a>, by Rob J Hyndman and George Athanasopoulos."
   ]
  },
  {
   "cell_type": "code",
   "execution_count": null,
   "metadata": {},
   "outputs": [],
   "source": []
  }
 ],
 "metadata": {
  "kernelspec": {
   "display_name": "Python 3",
   "language": "python",
   "name": "python3"
  },
  "language_info": {
   "codemirror_mode": {
    "name": "ipython",
    "version": 3
   },
   "file_extension": ".py",
   "mimetype": "text/x-python",
   "name": "python",
   "nbconvert_exporter": "python",
   "pygments_lexer": "ipython3",
   "version": "3.7.4"
  }
 },
 "nbformat": 4,
 "nbformat_minor": 2
}
